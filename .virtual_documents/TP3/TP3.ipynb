


import math
import numpy as np
import matplotlib.pyplot as plt


def fex(NX,dx,time):
    F = np.zeros((NX))
    Tex = np.zeros((NX)) #np.sin(2*np.pi*x)
    Text = np.zeros((NX)) #np.sin(2*np.pi*x)
    Texx = np.zeros((NX)) #np.sin(2*np.pi*x)
    for j in range (1,NX-1):
        v=(np.exp(-1000*((j-NX/3)/NX)**2)+np.exp(-10*np.exp(-1000*((j-NX/3)/NX)**2)))\
            *np.sin(5*j*math.pi/NX)
        Tex[j] = np.sin(4*math.pi*time)*v
        Text[j] = 4*math.pi*np.cos(4*math.pi*time)*v
        
    for j in range (1,NX-1):
        Texx[j]=(Tex[j+1]-Tex[j-1])/(2*dx)  #np.cos(j*math.pi/NX)*math.pi/NX  
        Txx=(Tex[j+1]-2*Tex[j]+Tex[j-1])/(dx**2)  #-np.sin(j*math.pi/NX)*(math.pi/NX)**2    #
        F[j]=V*Texx[j]-K*Txx+lamda*Tex[j]+Text[j]
    return F,Tex,Texx

#u,t = -V u,x + k u,xx  -lamda u + f

# PHYSICAL PARAMETERS
K = 0.1     #Diffusion coefficient
L = 1.0     #Domain size
Time = 1.  #Integration time


V=1
lamda=1

# NUMERICAL PARAMETERS
NX = 5  #Number of grid points
NT = 10000   #Number of time steps max
ifre=100  #plot every ifre time iterations
eps=0.001     #relative convergence ratio
niter_refinement=20      #niter different calculations with variable mesh size

irk_max=4
alpha=np.zeros(irk_max)
for irk in range(irk_max):
    alpha[irk]=1/(irk_max-irk)
    #print(alpha[irk])
# if(irk_max==3):
#     alpha[0]=0.333
#     alpha[1]=0.5
#     alpha[2]=1

error=np.zeros((niter_refinement))

NX_tab=[]
Err_tab1=[]
Err_tab2=[]

for iter in range (niter_refinement):
    NX=NX+3
    NX_tab.append(NX)
    
    dx = L/(NX-1)                 #Grid step (space)
    dt = dx**2/(V*dx+K+dx**2)   #Grid step (time)  condition CFL de stabilite 10.4.5
    print("Nbre points in space, Time step:",dx,dt)

    ### MAIN PROGRAM ###

    # Initialisation
    x = np.linspace(0.0,1.0,NX)
    T = np.zeros((NX)) #np.sin(2*np.pi*x)
    F = np.zeros((NX))
    rest = []

    plt.figure(1)


    # Main loop en temps
    #for n in range(0,NT):
    n=0
    res=1
    res0=1
    time=0
    time_total=1
    time_tab=[]
    while(time<time_total): #n<NT and res/res0>eps):
        n+=1
        F,Tex,Texx=fex(NX,dx,time)
                        
        dt = dx**2/(V*dx+2*K+abs(np.max(F))*dx**2)   #Grid step (time)  condition CFL de stabilite 10.4.5
        time+=dt
        time_tab.append(time)
        
        T0=T.copy()

        for irk in range(irk_max):
        #discretization of the advection/diffusion/reaction/source equation
            res=0
            for j in range (1, NX-1):
                xnu=K+0.5*dx*abs(V) 
                Tx=(T[j+1]-T[j-1])/(2*dx)
                Txx=(T[j-1]-2*T[j]+T[j+1])/(dx**2)
                RHS = dt*(-V*Tx+xnu*Txx-lamda*T[j]+F[j])
                res+=abs(RHS)
                T[j] = T0[j] + RHS*alpha[irk]

        if (n == 1 ):
            res0=res
        rest.append(res)
    #Plot every ifre time steps
        if (n%ifre == 0 or (res/(res0+1.e-10))<eps):
            print("iteration, residual:",n,res)
            plotlabel = "t = %1.2f" %(n * dt)
            plt.plot(x,T, label=plotlabel,color = plt.get_cmap('copper')(float(n)/NT))
            plt.plot(x,Tex, label=plotlabel,color = "green")              
            plt.xlabel(u'$x$', fontsize=26)
            plt.ylabel(u'$T$', fontsize=26, rotation=0)
            plt.title(u'ADRS 1D')
            #plt.legend()
               
        err=np.dot(T-Tex,T-Tex)*dx
        errh1=0
        for j in range (1,NX-1):
            errh1+=dx*(Texx[j]-(T[j+1]-T[j-1])/(2*dx))**2
           
        error[iter]=np.sqrt(err)/NX
        #print('norm error=',error[iter])

        if(abs(time-0.5)<dt*0.5):
            Err_tab1.append(error[iter])

    Err_tab2.append(error[iter])

    
    plt.figure(2)
    plt.plot(np.array(time_tab),rest)

plt.figure(3)
NX_tab=np.array(NX_tab)
Err_tab1=np.array(Err_tab1)
Err_tab2=np.array(Err_tab2)
print(len(NX_tab),len(Err_tab1),len(Err_tab2))

plt.plot(NX_tab,Err_tab1,label="0.5 sec")
plt.plot(NX_tab,Err_tab2,label="1 sec")
plt.xlabel(u'$Nx$', fontsize=14)
plt.ylabel(u'$L^² Error$', fontsize=14, rotation=90)
plt.title(u'Error at 2 different times for different meshes')
plt.legend()


plt.figure(3)
plt.plot(x,Tex, label=plotlabel,color = plt.get_cmap('copper')(float(n)/NT))








import math
import numpy as np
import matplotlib.pyplot as plt

# ----------------------------
# Fonction : solution exacte + source
# ----------------------------
def fex(NX, dx, time):
    F = np.zeros((NX))
    Tex = np.zeros((NX))
    Text = np.zeros((NX))
    Texx = np.zeros((NX))
    for j in range(1, NX - 1):
        v = (np.exp(-1000 * ((j - NX / 3) / NX) ** 2)
             + np.exp(-10 * np.exp(-1000 * ((j - NX / 3) / NX) ** 2))) \
            * np.sin(5 * j * math.pi / NX)
        Tex[j] = np.sin(4 * math.pi * time) * v
        Text[j] = 4 * math.pi * np.cos(4 * math.pi * time) * v

    for j in range(1, NX - 1):
        Texx[j] = (Tex[j + 1] - Tex[j - 1]) / (2 * dx)
        Txx = (Tex[j + 1] - 2 * Tex[j] + Tex[j - 1]) / (dx ** 2)
        F[j] = V * Texx[j] - K * Txx + lamda * Tex[j] + Text[j]

    return F, Tex, Texx

# ----------------------------
# Paramètres physiques
# ----------------------------
K = 0.1      # Diffusion
L = 1.0      # Taille du domaine
Time = 1.0   # Temps final
V = 1.0      # Vitesse
lamda = 1.0  # Réaction

# ----------------------------
# Paramètres numériques
# ----------------------------
NX = 5
niter_refinement = 20
irk_max = 4
alpha = np.zeros(irk_max)
for irk in range(irk_max):
    alpha[irk] = 1 / (irk_max - irk)

eps = 1e-3
ifre = 100

# Tableaux de stockage
NX_tab = []
Err_tab_t_half = []
Err_tab_t_final = []

# ----------------------------
# Boucle sur les maillages
# ----------------------------
for iter in range(niter_refinement):
    NX += 3
    NX_tab.append(NX)

    dx = L / (NX - 1)
    dt = dx ** 2 / (V * dx + K + dx ** 2)  # condition CFL
    x = np.linspace(0.0, 1.0, NX)

    # Initialisation
    T = np.zeros(NX)
    time = 0.0
    time_total = Time

    # Évolution en temps
    while time < time_total:
        F, Tex, Texx = fex(NX, dx, time)
        dt = dx ** 2 / (V * dx + 2 * K + abs(np.max(F)) * dx ** 2)
        time += dt

        T0 = T.copy()
        for irk in range(irk_max):
            for j in range(1, NX - 1):
                xnu = K + 0.5 * dx * abs(V)
                Tx = (T[j + 1] - T[j - 1]) / (2 * dx)
                Txx = (T[j - 1] - 2 * T[j] + T[j + 1]) / (dx ** 2)
                RHS = dt * (-V * Tx + xnu * Txx - lamda * T[j] + F[j])
                T[j] = T0[j] + RHS * alpha[irk]

        # 🔹 Calcul erreur à t = T/2
        if abs(time - Time / 2) < dt / 2:
            err = np.dot(T - Tex, T - Tex) * dx
            Err_tab_t_half.append(np.sqrt(err))

        # 🔹 Calcul erreur à t = T
        if abs(time - Time) < dt / 2:
            err = np.dot(T - Tex, T - Tex) * dx
            Err_tab_t_final.append(np.sqrt(err))

# ----------------------------
# Visualisation
# ----------------------------
plt.figure(figsize=(8, 6))
plt.loglog(NX_tab, Err_tab_t_half, 'o-', label=r'$t = T/2$')
plt.loglog(NX_tab, Err_tab_t_final, 's-', label=r'$t = T$')
plt.xlabel(r'$N_x$ (nombre de points)', fontsize=14)
plt.ylabel(r'$\| T - T_{\text{ex}} \|_{L^2}$', fontsize=14)
plt.title(r'Évolution de l\'erreur $L^2$ en fonction du maillage', fontsize=14)
plt.grid(True, which='both', linestyle='--', alpha=0.5)
plt.legend()
plt.show()






import math
import numpy as np
import matplotlib.pyplot as plt

# ----------------------------
# Fonction : solution exacte + source
# ----------------------------
def fex(NX, dx, time):
    F = np.zeros((NX))
    Tex = np.zeros((NX))
    Text = np.zeros((NX))
    Texx = np.zeros((NX))
    for j in range(1, NX - 1):
        v = (np.exp(-1000 * ((j - NX / 3) / NX) ** 2)
             + np.exp(-10 * np.exp(-1000 * ((j - NX / 3) / NX) ** 2))) \
            * np.sin(5 * j * math.pi / NX)
        Tex[j] = np.sin(4 * math.pi * time) * v
        Text[j] =4* math.pi * np.cos(4* math.pi * time) * v

    for j in range(1, NX - 1):
        Texx[j] = (Tex[j + 1] - Tex[j - 1]) / (2 * dx)
        Txx = (Tex[j + 1] - 2 * Tex[j] + Tex[j - 1]) / (dx ** 2)
        F[j] = V * Texx[j] - K * Txx + lamda * Tex[j] + Text[j]

    return F, Tex, Texx

# ----------------------------
# Paramètres physiques
# ----------------------------
K = 0.1      # Diffusion
L = 1.0      # Taille du domaine
Time = 1.0   # Temps final
V = 1.0      # Vitesse
lamda = 1.0  # Réaction

# ----------------------------
# Paramètres numériques
# ----------------------------
NX = 51                 # Maillage fixe
dx = L / (NX - 1)
dt = dx ** 2 / (V * dx + K + dx ** 2)  # condition CFL
x = np.linspace(0.0, 1.0, NX)
mid_index = NX // 2     # Indice du point milieu

# Ordres de Runge-Kutta à tester
rk_orders = [1, 2, 3, 4]
colors = ['red', 'green', 'blue', 'purple']

# ----------------------------
# Boucle sur les schémas RK
# ----------------------------
plt.figure(figsize=(8, 6))

for rk_order, color in zip(rk_orders, colors):

    # Coefficients alpha pour chaque ordre
    irk_max = rk_order
    alpha = np.zeros(irk_max)
    for irk in range(irk_max):
        alpha[irk] = 1 / (irk_max - irk)

    # Initialisation
    T = np.zeros(NX)
    time = 0.0
    time_total = Time

    time_tab = []
    error_tab = []

    # Évolution temporelle
    while time < time_total:
        F, Tex, Texx = fex(NX, dx, time)
        dt = dx ** 2 / (V * dx + 2 * K + abs(np.max(F)) * dx ** 2)
        time += dt

        T0 = T.copy()
        for irk in range(irk_max):
            for j in range(1, NX - 1):
                xnu = K + 0.5 * dx * abs(V)
                Tx = (T[j + 1] - T[j - 1]) / (2 * dx)
                Txx = (T[j - 1] - 2 * T[j] + T[j + 1]) / (dx ** 2)
                RHS = dt * (-V * Tx + xnu * Txx - lamda * T[j] + F[j])
                T[j] = T0[j] + RHS * alpha[irk]

        # Calcul erreur au point milieu
        F, Tex, Texx = fex(NX, dx, time)
        err_point = abs(T[mid_index] - Tex[mid_index])

        time_tab.append(time)
        error_tab.append(err_point)

    # Tracé
    plt.plot(time_tab, error_tab, color=color, label=f"Runge-Kutta ordre {rk_order}")

# ----------------------------
# Affichage final
# ----------------------------
plt.xlabel(r"Temps $t$", fontsize=14)
plt.ylabel(r"Erreur ponctuelle $|T(x_{mid},t) - T_{ex}(x_{mid},t)|$", fontsize=14)
plt.title(r"Évolution temporelle de l'erreur au point milieu pour différents ordres de RK", fontsize=13)
plt.grid(True, linestyle='--', alpha=0.5)
plt.legend()
plt.show()






import math
import numpy as np
import matplotlib.pyplot as plt

# ----------------------------
# Fonction : solution exacte + source
# ----------------------------
def fex(NX, dx, time):
    F = np.zeros((NX))
    Tex = np.zeros((NX))
    Text = np.zeros((NX))
    Texx = np.zeros((NX))

    for j in range(NX):
        xj = j * dx
        Tex[j] = np.exp(-lamda * time) * xj            # Solution exacte monotone en x
        Text[j] = -lamda * np.exp(-lamda * time) * xj  # Dérivée temporelle
        Texx[j] = 0.0                                  # Dérivée seconde spatiale

    # Terme source F(x,t) calculé à partir de l’équation ADRS :
    # T_t = -V T_x + K T_xx - lamda T + F
    # Donc : F = T_t + V T_x - K T_xx + lamda T
    for j in range(1, NX - 1):
        T_x = (Tex[j + 1] - Tex[j - 1]) / (2 * dx)
        T_xx = (Tex[j + 1] - 2 * Tex[j] + Tex[j - 1]) / (dx ** 2)
        F[j] = Text[j] + V * T_x - K * T_xx + lamda * Tex[j]

    return F, Tex, Texx

# ----------------------------
# Paramètres physiques
# ----------------------------
K = 0.1      # Diffusion
L = 1.0      # Taille du domaine
Time = 1.0   # Temps final
V = 1.0      # Vitesse
lamda = 1.0  # Réaction

# ----------------------------
# Paramètres numériques
# ----------------------------
NX = 51                 # Maillage fixe
dx = L / (NX - 1)
dt = dx ** 2 / (V * dx + K + dx ** 2)  # condition CFL
x = np.linspace(0.0, 1.0, NX)
mid_index = NX // 2     # Indice du point milieu

# Ordres de Runge-Kutta à tester
rk_orders = [1, 2, 3, 4]
colors = ['red', 'green', 'blue', 'purple']

# ----------------------------
# Boucle sur les schémas RK
# ----------------------------
plt.figure(figsize=(8, 6))

for rk_order, color in zip(rk_orders, colors):

    # Coefficients alpha pour chaque ordre
    irk_max = rk_order
    alpha = np.zeros(irk_max)
    for irk in range(irk_max):
        alpha[irk] = 1 / (irk_max - irk)

    # Initialisation
    T = np.zeros(NX)
    time = 0.0
    time_total = Time

    time_tab = []
    error_tab = []

    # Évolution temporelle
    while time < time_total:
        F, Tex, Texx = fex(NX, dx, time)
        dt = dx ** 2 / (V * dx + 2 * K + abs(np.max(F)) * dx ** 2)
        time += dt

        T0 = T.copy()
        for irk in range(irk_max):
            for j in range(1, NX - 1):
                xnu = K + 0.5 * dx * abs(V)
                Tx = (T[j + 1] - T[j - 1]) / (2 * dx)
                Txx = (T[j - 1] - 2 * T[j] + T[j + 1]) / (dx ** 2)
                RHS = dt * (-V * Tx + xnu * Txx - lamda * T[j] + F[j])
                T[j] = T0[j] + RHS * alpha[irk]

        # Calcul erreur au point milieu
        F, Tex, Texx = fex(NX, dx, time)
        err_point = abs(T[mid_index] - Tex[mid_index])

        time_tab.append(time)
        error_tab.append(err_point)

    # Tracé
    plt.plot(time_tab, error_tab, color=color, label=f"Runge-Kutta ordre {rk_order}")

# ----------------------------
# Affichage final
# ----------------------------
plt.xlabel(r"Temps $t$", fontsize=14)
plt.ylabel(r"Erreur ponctuelle $|T(x_{mid},t) - T_{ex}(x_{mid},t)|$", fontsize=14)
plt.title(r"Évolution temporelle de l'erreur au point milieu pour différents ordres de RK", fontsize=13)
plt.grid(True, linestyle='--', alpha=0.5)
plt.legend()
plt.show()






import math
import numpy as np
import matplotlib.pyplot as plt

#u,t = -V u,x + k u,xx  -lamda u + (src?) src est donne pour forcer u=uex
#uex,t + V uex,x - k uex,xx  + lamda uex = src = F[j]*np.sin(freq*t)+Tex[j]*np.cos(freq*t)*freq


iplot=1

# PHYSICAL PARAMETERS
K = 0.01     #Diffusion coefficient
xmin = 0.0
xmax = 1.0    
Time = 2.  #Integration time

V=1.
lamda=1
freq=7

#mesh adaptation param

niter_refinement=10      #niter different calculations
hmin=0.01
hmax=0.5
err=0.01

# NUMERICAL PARAMETERS
NX = 3    #Number of grid points : initialization
NT = 10000   #Number of time steps max
ifre=100000  #plot every ifre time iterations
eps=0.001     #relative convergence ratio

errorL2=np.zeros((niter_refinement))
errorH1=np.zeros((niter_refinement))
itertab=np.zeros((niter_refinement))
hloc = np.ones((NX))*hmax*0.5

iter=0
NX0=0
while( np.abs(NX0-NX) > 1 and iter<niter_refinement):

    itertab[iter]=1./NX
    iter+=1
    
    x = np.linspace(xmin,xmax,NX)
    T = np.zeros((NX))

#mesh adaptation using local metric
    if(iter>0):
        xnew=[]
        Tnew=[]        
        nnew=1
        xnew.append(xmin)
        Tnew.append(T[0])        
        while(xnew[nnew-1] < xmax-hmin):
            for i in range(0,NX-1):
                if(xnew[nnew-1] >= x[i] and xnew[nnew-1] <= x[i+1] and xnew[nnew-1]<xmax-hmin):
                    hll=(hloc[i]*(x[i+1]-xnew[nnew-1])+hloc[i+1]*(xnew[nnew-1]-x[i]))/(x[i+1]-x[i])
                    hll=min(max(hmin,hll),hmax)
                    nnew+=1
#                    print(nnew,hll,min(xmax,xnew[nnew-2]+hll))
                    xnew.append(min(xmax,xnew[nnew-2]+hll))                
#solution interpolation for initialization (attention initial solution on first mesh in the row)
                    un=(T[i]*(x[i+1]-xnew[nnew-1])+T[i+1]*(xnew[nnew-1]-x[i]))/(x[i+1]-x[i])
                    Tnew.append(un)
                    
        NX0=NX
        NX=nnew
        x = np.linspace(xmin,xmax,NX)
        x[0:NX]=xnew[0:NX]
        #print(x)
        T = np.zeros((NX))
#        T[0:NX]=Tnew[0:NX]
#        T[NX-1]=0
    
    rest = []
    F = np.zeros((NX))
    RHS = np.zeros((NX))
    hloc = np.ones((NX))*hmax*0.5
    metric = np.zeros((NX))

    Tex = np.zeros((NX))
    for j in range (1,NX-1):
        Tex[j] = np.exp(-20*(x[j]-(xmax+xmin)*0.5)**2)
        
    dt=1.e30
    for j in range (1,NX-1):
        Tx=(Tex[j+1]-Tex[j-1])/(x[j+1]-x[j-1])
        Txip1=(Tex[j+1]-Tex[j])/(x[j+1]-x[j])
        Txim1=(Tex[j]-Tex[j-1])/(x[j]-x[j-1])
        Txx=(Txip1-Txim1)/(0.5*(x[j+1]+x[j])-0.5*(x[j]+x[j-1]))
        F[j]=V*Tx-K*Txx+lamda*Tex[j]
        dt=min(dt,0.25*(x[j+1]-x[j-1])**2/(V*np.abs(x[j+1]-x[j-1])+4*K+np.abs(F[j])*(x[j+1]-x[j-1])**2))

    print('NX=',NX,'Dt=',dt)        

    #time step loop
    n=0
    res=1
    res0=1
    t=0
    while(n<NT and t<Time):
        n+=1
        dt=min(dt,Time-t)
        t+=dt
          
    #discretization of the advection/diffusion/reaction/source equation
        res=0
        for j in range (1, NX-1):
#viscosite numerique : decentrage pour stabilite de derivee premiere/advection 12.17
            visnum=0.25*(0.5*(x[j+1]+x[j])-0.5*(x[j]+x[j-1]))*np.abs(V) #0.5 h |V|
            xnu=K+visnum            
            Tx=(T[j+1]-T[j-1])/(x[j+1]-x[j-1])
            Txip1=(T[j+1]-T[j])/(x[j+1]-x[j])
            Txim1=(T[j]-T[j-1])/(x[j]-x[j-1])
            Txx=(Txip1-Txim1)/(0.5*(x[j+1]+x[j])-0.5*(x[j]+x[j-1]))
            src=F[j]*np.sin(freq*t)+Tex[j]*np.cos(freq*t)*freq
            RHS[j] = dt*(-V*Tx+xnu*Txx-lamda*T[j]+src)
            metric[j]+=min(1./hmin**2,max(1./hmax**2,abs(Txx)/err))            
            res+=abs(RHS[j])

        metric[0]=metric[1]
        metric[NX-1]=metric[NX-2]

        for j in range (1, NX-1):
            T[j] += RHS[j]   #Tn+1 = Tn + dt*(-V*Tx+xnu*Txx-lamda*T[j]+src)
            RHS[j]=0
            
    
        T[0]=0
        T[NX-1]=2*T[NX-2]-T[NX-3]  #Txx=0 second derivative

        if (n == 1 ):
            res0=res

        rest.append(res)
    #Plot every ifre time steps
        if (n%ifre == 0 or t>=Time):
            #print('iter=',n,'residual=',res)
            plotlabel = "iter adapt = %1.0f" %iter
#            plotlabel = "t = %1.2f" %t
            plt.plot(x[0:NX],T[0:NX], label=plotlabel,linestyle='--', marker='o')
      
    metric[0:NX]/=n  #average (intersect) over n iterations 
    hloc[0:NX]=np.sqrt(1./metric[0:NX])
    
    print('iter=',n,'time=',t,'residual=',res)
    plt.xlabel(u'$x$', fontsize=26)
    plt.ylabel(u'$T$', fontsize=26, rotation=0)
    plt.title(u'ADRS insta 1D')
    plt.legend()
#         plt.figure(2)
#         plt.plot(np.log10(rest/rest[0]))


# #    errL2=np.sqrt(np.dot(T-Tex,T-Tex))
#     errH1h=0
#     errL2h=0
#     for j in range (1, NX-1):
#         Texx=(Tex[j+1]-Tex[j-1])/(x[j+1]-x[j-1])
#         Tx=(T[j+1]-T[j-1])/(x[j+1]-x[j-1])
#         errL2h+=(0.5*(x[j+1]+x[j])-0.5*(x[j]+x[j-1]))*(T[j]-Tex[j])**2
#         errH1h+=(0.5*(x[j+1]+x[j])-0.5*(x[j]+x[j-1]))*(Tx-Texx)**2

#     errorL2[iter]=errL2h
#     errorH1[iter]=errL2h+errH1h
#     
#     
#     print('norm error L2, H1=',errL2h,errH1h)

# if(iplot==-1):
#     plt.figure(3)
#     plt.plot(itertab,np.log10(errorL2))
#     plt.plot(itertab,np.log10(errorH1))

plt.show()






import math
import numpy as np
import matplotlib.pyplot as plt

# --- Paramètres physiques ---
K = 0.01
V = 1.0
lamda = 1.0
freq = 7.0
xmin, xmax = 0.0, 1.0
Time = 2.0

# --- Adaptation ---
niter_refinement = 10
hmin, hmax = 0.01, 0.5
err = 0.01
tol_L2 = 1e-2

# --- Numérique ---
NX = 5
NT = 10000

iter = 0
NX0 = 0
errL2_current = 1e9
hloc = np.ones(NX) * hmax * 0.5

while not (abs(NX - NX0) <= 1 and errL2_current < tol_L2) and iter < niter_refinement:
    iter += 1
    print(f"\n==== ADAPTATION {iter} ====")

    x = np.linspace(xmin, xmax, NX)
    T = np.zeros(NX)
    Tex = np.exp(-20 * (x - 0.5)**2)

    # --- Calcul de F et dt ---
    F = np.zeros(NX)
    dt = 1e30
    for j in range(1, NX-1):
        Tx = (Tex[j+1]-Tex[j-1])/(x[j+1]-x[j-1])
        Txip1 = (Tex[j+1]-Tex[j])/(x[j+1]-x[j])
        Txim1 = (Tex[j]-Tex[j-1])/(x[j]-x[j-1])
        Txx = (Txip1 - Txim1) / (0.5*(x[j+1]+x[j]) - 0.5*(x[j]+x[j-1]))
        F[j] = V*Tx - K*Txx + lamda*Tex[j]
        dt = min(dt, 0.25 * (x[j+1]-x[j-1])**2 / (abs(V)*(x[j+1]-x[j-1]) + 4*K + abs(F[j])*(x[j+1]-x[j-1])**2))
    dt = min(dt, 1e-3)

    print(f"NX={NX}, dt={dt:.2e}")

    # --- Boucle temporelle ---
    metric = np.zeros(NX)
    t = 0
    n = 0
    while t < Time and n < NT:
        n += 1
        dt_eff = min(dt, Time - t)
        t += dt_eff

        RHS = np.zeros(NX)
        for j in range(1, NX-1):
            visnum = 0.25 * (x[j+1]-x[j-1]) * abs(V)
            xnu = K + visnum
            Tx = (T[j+1]-T[j-1])/(x[j+1]-x[j-1])
            Txip1 = (T[j+1]-T[j])/(x[j+1]-x[j])
            Txim1 = (T[j]-T[j-1])/(x[j]-x[j-1])
            Txx = (Txip1 - Txim1) / (0.5*(x[j+1]+x[j]) - 0.5*(x[j]+x[j-1]))
            src = F[j]*np.sin(freq*t) + Tex[j]*np.cos(freq*t)*freq
            RHS[j] = dt_eff * (-V*Tx + xnu*Txx - lamda*T[j] + src)
            metric[j] += min(1/hmin**2, max(1/hmax**2, abs(Txx)/err))

        T[1:-1] += RHS[1:-1]
        T[0] = 0.0
        T[-1] = 2*T[-2] - T[-3]

    # --- Moyenne métrique ---
    metric /= n
    metric = np.clip(metric, 1/hmax**2, 1/hmin**2)
    hloc = np.sqrt(1.0 / metric)

    # --- Calcul erreur L2 ---
    uex = Tex * np.sin(freq * Time)
    errL2_current = np.sqrt(np.trapz((T - uex)**2, x))
    print(f"Erreur L2 = {errL2_current:.3e}")

    # --- Plot ---
    plt.plot(x, T, '-o', label=f'it={iter}, NX={NX}, err={errL2_current:.1e}')

    # --- Adaptation locale du maillage ---
    xnew = [xmin]
    while xnew[-1] < xmax - hmin:
        # interpolation hloc
        i = np.searchsorted(x, xnew[-1]) - 1
        i = max(0, min(i, NX-2))
        hll = (hloc[i]*(x[i+1]-xnew[-1]) + hloc[i+1]*(xnew[-1]-x[i]))/(x[i+1]-x[i])
        hll = min(max(hmin, hll), hmax)
        xnew.append(min(xmax, xnew[-1] + hll))

    NX0 = NX
    NX = len(xnew)
    x = np.array(xnew)

plt.xlabel('x')
plt.ylabel('T')
plt.legend()
plt.title('Adaptation ADRS 1D (critère mixte + métrique locale)')
plt.show()




